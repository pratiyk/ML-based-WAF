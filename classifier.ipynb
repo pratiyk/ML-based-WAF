{
 "cells": [
  {
   "cell_type": "markdown",
   "metadata": {},
   "source": [
    "#### This notebook contains the classifier based on python pycaret module"
   ]
  },
  {
   "cell_type": "code",
   "execution_count": null,
   "metadata": {},
   "outputs": [],
   "source": [
    "pip install pandas"
   ]
  },
  {
   "cell_type": "code",
   "execution_count": null,
   "metadata": {},
   "outputs": [],
   "source": [
    "import pandas as pd\n",
    "\n",
    "# Load the CSV file\n",
    "file_path = 'access_logs.csv'\n",
    "df = pd.read_csv(file_path)\n",
    "\n",
    "# Display the first few rows of the dataframe\n",
    "df.head()\n"
   ]
  },
  {
   "cell_type": "code",
   "execution_count": null,
   "metadata": {},
   "outputs": [],
   "source": [
    "pip install pycaret"
   ]
  },
  {
   "cell_type": "code",
   "execution_count": null,
   "metadata": {},
   "outputs": [],
   "source": [
    "pip install --upgrade scipy scikitplot"
   ]
  },
  {
   "cell_type": "code",
   "execution_count": null,
   "metadata": {},
   "outputs": [],
   "source": [
    "pip install scipy==1.8.0"
   ]
  },
  {
   "cell_type": "code",
   "execution_count": null,
   "metadata": {},
   "outputs": [],
   "source": [
    "import pandas as pd\n",
    "from pycaret.clustering import setup, create_model, evaluate_model, assign_model, save_model, plot_model\n",
    "\n",
    "# Load the CSV file\n",
    "file_path = 'access_logs2.csv'\n",
    "df = pd.read_csv(file_path)\n",
    "\n",
    "# Initialize the PyCaret clustering environment\n",
    "clustering_setup = setup(data=df, session_id=123, normalize=True, verbose=False, memory=None)\n",
    "\n",
    "# Create a specific clustering model, e.g., KMeans\n",
    "kmeans_model = create_model('kmeans')\n",
    "\n",
    "# Evaluate the model\n",
    "evaluate_model(kmeans_model)\n",
    "\n",
    "# Assign clusters to the data\n",
    "clustered_data = assign_model(kmeans_model)\n",
    "\n",
    "# Display the first few rows of the clustered data\n",
    "print(clustered_data.head())\n",
    "\n",
    "# Save the model\n",
    "save_model(kmeans_model, 'clustering_model')\n",
    "\n",
    "# Optional: Plot clusters\n",
    "plot_model(kmeans_model, plot='cluster')\n"
   ]
  },
  {
   "cell_type": "code",
   "execution_count": null,
   "metadata": {},
   "outputs": [],
   "source": [
    "import pandas as pd\n",
    "from pycaret.clustering import setup, create_model, evaluate_model, assign_model, save_model, plot_model\n",
    "\n",
    "# Load the CSV file\n",
    "file_path = 'anomalous_csic2010_features.csv'\n",
    "df = pd.read_csv(file_path)\n",
    "\n",
    "# Initialize the PyCaret clustering environment\n",
    "clustering_setup = setup(data=df, session_id=123, normalize=True, verbose=False, memory=None)\n",
    "\n",
    "# Create a specific clustering model, e.g., KMeans\n",
    "kmeans_model = create_model('kmeans')\n",
    "\n",
    "# Evaluate the model\n",
    "evaluate_model(kmeans_model)\n",
    "\n",
    "# Assign clusters to the data\n",
    "clustered_data = assign_model(kmeans_model)\n",
    "\n",
    "# Display the first few rows of the clustered data\n",
    "print(clustered_data.head())\n",
    "\n",
    "# Save the model\n",
    "save_model(kmeans_model, 'clustering_model')\n",
    "\n",
    "# Optional: Plot clusters\n",
    "plot_model(kmeans_model, plot='cluster')\n"
   ]
  }
 ],
 "metadata": {
  "kernelspec": {
   "display_name": "Python 3",
   "language": "python",
   "name": "python3"
  },
  "language_info": {
   "name": "python",
   "version": "3.11.4"
  }
 },
 "nbformat": 4,
 "nbformat_minor": 2
}
